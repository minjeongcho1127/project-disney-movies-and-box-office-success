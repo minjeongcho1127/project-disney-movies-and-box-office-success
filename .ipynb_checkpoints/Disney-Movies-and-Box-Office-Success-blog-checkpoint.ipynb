{
 "cells": [
  {
   "cell_type": "markdown",
   "metadata": {},
   "source": [
    "# What contributes to the success of Disney movies?\n",
    "\n",
    "![image](https://minjeongcho1127.github.io/images/disney_10by10.png)\n",
    "\n",
    "Are you one of those kids who grew up with all the Disney movies? I'm one of many Disney fans, and my favorite Disney movie growing up was Cinderella. As a huge fan of Disney movies, I'd like to explore the factors that contributed to the success of Disney movies. \n",
    "\n",
    "The [Disney movie dataset](https://data.world/kgarrett/disney-character-success-00-16) was compiled by Kelly Garrett, which contains 579 Disney movies with 6 features: movie title, release date, genre, MPAA rating, total gross, and inflation-adjusted gross. Below is the sample of the dataset:\n",
    "\n",
    "<img src=\"https://minjeongcho1127.github.io/images/disney_dataset.png\" alt=\"Drawing\" style=\"width: 800px;\"/>\n",
    "\n",
    "Using the dataset, I'd like to figure out the relationship between Disney movies and Box Office Success by answering these questions:\n",
    "1. What are the Top 10 Disney Movies in the Box Office?\n",
    "2. How are the popular trends in the movie genre changing?\n",
    "3. What is the relationship between movie genre and Box Office gross?\n",
    "\n",
    "### 1. What are the Top 10 Disney Movies in the Box Office?\n",
    "- To answer this question, I sorted movies by their inflation-adjusted gross in descending order and displayed the top 10 movies as shown below. Snow White and the Seven Dwarfs is the most successful movie to date!\n",
    "\n",
    "<img src=\"https://minjeongcho1127.github.io/images/disney_top10.png\" alt=\"Drawing\" style=\"width: 800px;\"/>\n",
    "\n",
    "### 2. How are the popular trends in the movie genre changing?\n",
    "- To answer this question, firstly I grouped movies by genre and then by year to see the adjusted gross of each genre in each year as shown below.\n",
    "\n",
    "<img src=\"https://minjeongcho1127.github.io/images/disney_genre_yearly.png\" alt=\"Drawing\" style=\"width: 430px;\"/>\n",
    "\n",
    "- Then, I plotted the inflation-adjusted gross with respect to the release year for each genre to see how box office revenue changed over time. The graph below is an enlarged view of the graph after 2006. Action and Adventure genres are growing the fastest!\n",
    "\n",
    "<img src=\"https://minjeongcho1127.github.io/images/disney_output_lineplot.png\" alt=\"Drawing\" style=\"width: 1000px;\"/>\n",
    "\n",
    "### 3. What is the relationship between movie genre and Box Office gross?\n",
    "- To answer this question, I built a linear regression model to investigate the relationship between genre and box office gross. From the regression model, the effect of each genre can be checked by looking at its coefficient in units of box office gross dollars. Especially, the intercept and the first coefficient values represent the effect of Action and Adventure genres, respectively.\n",
    "\n",
    "- For these regression parameters (i.e. the intercept and coefficients), I computed confidence intervals using the pairs bootstrap method. Here, the 95% confidence intervals for the intercept and coefficient mean that the intervals have a probability of 95% to contain the true value for the intercept and coefficient, respectively. If there is a significant relationship between a given genre and the adjusted gross, the confidence interval of its coefficient should exclude 0. As shown below, it is likely that the adjusted gross is significantly correlated with the Action and Adventure genres, because the confidence intervals from the bootstrap method do not contain the value zero (90, 95, 99% confidence intervals for action movies, 90% confidence intervals for adventure movies).\n",
    "    - 99% confidence intervals for action movies:  [8.09518042e+07 1.94339400e+08]\n",
    "    - 99% confidence intervals for adventure movies:  [-3.23103814e+07  1.35099683e+08]\n",
    "    - 95% confidence intervals for action movies:  [9.20401699e+07 1.83395103e+08]\n",
    "    - 95% confidence intervals for adventure movies:  [-6.70112873e+06  1.19533001e+08]\n",
    "    - 90% confidence intervals for action movies:  [9.83256036e+07 1.75677736e+08]\n",
    "    - 90% confidence intervals for adventure movies:  [2.64681042e+06 1.07180420e+08]\n",
    "\n",
    "- From the results of the bootstrap analysis and the trend plot, I could say that Disney's Action and Adventure movies tend to do better in terms of adjusted gross than other genres. So we could expect more Marvel, Star Wars, and live-action movies in the upcoming years, and Disney should make more action and adventure movies!\n",
    "\n",
    "### GitHub Repository\n",
    "- Technical details, dataset, and Jupyter Notebook can be found in my [GitHub repository](https://github.com/minjeongcho1127/project-disney-movies-and-box-office-success).\n",
    "\n",
    "### Acknowledgment\n",
    "- This work is based on [DataCamp projects](https://www.datacamp.com/projects) and DataCamp has [agreed](https://support.datacamp.com/hc/en-us/articles/360006091334-DataCamp-Projects-An-Overview) to add projects to a personal portfolio."
   ]
  }
 ],
 "metadata": {
  "kernelspec": {
   "display_name": "Python 3",
   "language": "python",
   "name": "python3"
  },
  "language_info": {
   "codemirror_mode": {
    "name": "ipython",
    "version": 3
   },
   "file_extension": ".py",
   "mimetype": "text/x-python",
   "name": "python",
   "nbconvert_exporter": "python",
   "pygments_lexer": "ipython3",
   "version": "3.7.6"
  }
 },
 "nbformat": 4,
 "nbformat_minor": 5
}
